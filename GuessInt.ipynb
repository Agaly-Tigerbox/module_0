{
 "cells": [
  {
   "cell_type": "code",
   "execution_count": 4,
   "metadata": {},
   "outputs": [
    {
     "name": "stdout",
     "output_type": "stream",
     "text": [
      "24.49049049049049\n"
     ]
    }
   ],
   "source": [
    "#моодуль для отгадывания чисел - от 1 до 100, числа целые, диапазон задается в коде, числа при помощи модуля random\n",
    "import numpy as np\n",
    "\n",
    "def find_number_v1(number): # функция для отгадывания заданного числа, входной параметр число, возвращает кол-во попыток\n",
    "    \n",
    "    i = int(100/2) # начинаем с середины диапазона\n",
    "    count = 0 # счетчик попыток\n",
    "\n",
    "    while number!= i: # Цикл, угадываем число\n",
    "        count+=1\n",
    "        # условие если число меньше или больше, идем в ту или иную сторону\n",
    "        if number > i: i+=1 \n",
    "        if number < i: i-=1\n",
    "                    \n",
    "    return count\n",
    "\n",
    "counter_counts=[] # список для хранения значений счетчика, при каждом проходе отгадывания\n",
    "\n",
    "# прогоняем 1000 раз нашу функцию, для нахождения среднего значения попыток\n",
    "for i in range(1,1000):\n",
    "    number = random.randint(1,100) #каждый раз пробуем на разных числах\n",
    "    counter_counts.append(find_number_v1(number)) #сохраняем значение количества попыток в соответствующий список\n",
    "    \n",
    "    \n",
    "print(np.mean(counter_counts)) #выводим среднее значение из 1000 попыток\n"
   ]
  },
  {
   "cell_type": "code",
   "execution_count": null,
   "metadata": {},
   "outputs": [],
   "source": []
  }
 ],
 "metadata": {
  "kernelspec": {
   "display_name": "Python 3",
   "language": "python",
   "name": "python3"
  },
  "language_info": {
   "codemirror_mode": {
    "name": "ipython",
    "version": 3
   },
   "file_extension": ".py",
   "mimetype": "text/x-python",
   "name": "python",
   "nbconvert_exporter": "python",
   "pygments_lexer": "ipython3",
   "version": "3.7.6"
  }
 },
 "nbformat": 4,
 "nbformat_minor": 4
}
